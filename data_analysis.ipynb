{
 "cells": [
  {
   "cell_type": "markdown",
   "id": "4dc91c3f",
   "metadata": {},
   "source": [
    "Job Market in US for Data Analytics graduate is booming. This analysis is our project to expolre the career posibilities after graduation."
   ]
  },
  {
   "cell_type": "code",
   "execution_count": null,
   "id": "bed9e175",
   "metadata": {},
   "outputs": [],
   "source": [
    "x=1\n",
    "y=2\n",
    "z=x+y\n",
    "print(x, y, z)"
   ]
  }
 ],
 "metadata": {
  "language_info": {
   "name": "python"
  }
 },
 "nbformat": 4,
 "nbformat_minor": 5
}
